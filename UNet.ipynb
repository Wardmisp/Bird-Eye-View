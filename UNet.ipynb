{
  "nbformat": 4,
  "nbformat_minor": 0,
  "metadata": {
    "colab": {
      "name": "PFE",
      "provenance": [],
      "collapsed_sections": [],
      "authorship_tag": "ABX9TyNujktSs53aQG7RTN/3bcNz",
      "include_colab_link": true
    },
    "kernelspec": {
      "name": "python3",
      "display_name": "Python 3"
    }
  },
  "cells": [
    {
      "cell_type": "markdown",
      "metadata": {
        "id": "view-in-github",
        "colab_type": "text"
      },
      "source": [
        "<a href=\"https://colab.research.google.com/github/Wardmisp/Bird-Eye-View/blob/main/UNet.ipynb\" target=\"_parent\"><img src=\"https://colab.research.google.com/assets/colab-badge.svg\" alt=\"Open In Colab\"/></a>"
      ]
    },
    {
      "cell_type": "code",
      "metadata": {
        "id": "m_UqO1Lm_TNU"
      },
      "source": [
        "import torch\n",
        "import torchvision\n",
        "import torch"
      ],
      "execution_count": 17,
      "outputs": []
    },
    {
      "cell_type": "code",
      "metadata": {
        "id": "Hz3kXqxIHyGY",
        "outputId": "0d149197-8956-4d39-f013-10dc5bbebc91",
        "colab": {
          "base_uri": "https://localhost:8080/"
        }
      },
      "source": [
        "class Net(torch.nn.Module):   \n",
        "    def __init__(self):\n",
        "        super(Net, self).__init__()\n",
        "\n",
        "        self.cnn_layers = torch.nn.Sequential(\n",
        "            # 1st convolutional layer\n",
        "            torch.nn.Conv2d(3, 3, kernel_size=8, stride=2, padding=1),\n",
        "            torch.nn.LeakyReLU(negative_slope=0.2, inplace=True),\n",
        "            # 2nd convolutional layer\n",
        "            torch.nn.Conv2d(3, 3, kernel_size=6, stride=2, padding=1),\n",
        "            torch.nn.BatchNorm2d(3),\n",
        "            torch.nn.LeakyReLU(negative_slope=0.2, inplace=True)\n",
        "        )\n",
        "## NE PAS LIRE EN DESSOUS \n",
        "        self.linear_layers = torch.nn.Sequential(\n",
        "            torch.nn.Linear(4 * 7 * 7, 10)\n",
        "        )\n",
        "\n",
        "    # Defining the forward pass    \n",
        "    def forward(self, x):\n",
        "        x = self.cnn_layers(x)\n",
        "        x = x.view(x.size(0), -1)\n",
        "        x = self.linear_layers(x)\n",
        "        return x\n",
        "\n",
        "# defining the model\n",
        "model = Net()    \n",
        "print(model)"
      ],
      "execution_count": 23,
      "outputs": [
        {
          "output_type": "stream",
          "text": [
            "Net(\n",
            "  (cnn_layers): Sequential(\n",
            "    (0): Conv2d(3, 3, kernel_size=(8, 8), stride=(2, 2), padding=(1, 1))\n",
            "    (1): LeakyReLU(negative_slope=0.2, inplace=True)\n",
            "    (2): Conv2d(3, 3, kernel_size=(6, 6), stride=(2, 2), padding=(1, 1))\n",
            "    (3): BatchNorm2d(3, eps=1e-05, momentum=0.1, affine=True, track_running_stats=True)\n",
            "    (4): LeakyReLU(negative_slope=0.2, inplace=True)\n",
            "  )\n",
            "  (linear_layers): Sequential(\n",
            "    (0): Linear(in_features=196, out_features=10, bias=True)\n",
            "  )\n",
            ")\n"
          ],
          "name": "stdout"
        },
        {
          "output_type": "execute_result",
          "data": {
            "text/plain": [
              "<generator object Module.modules at 0x7fc972e29ca8>"
            ]
          },
          "metadata": {
            "tags": []
          },
          "execution_count": 23
        }
      ]
    }
  ]
}